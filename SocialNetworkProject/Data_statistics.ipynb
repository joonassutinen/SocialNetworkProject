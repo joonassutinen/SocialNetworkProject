{
 "cells": [
  {
   "cell_type": "code",
   "execution_count": 1,
   "metadata": {
    "colab": {
     "base_uri": "https://localhost:8080/"
    },
    "id": "9yXUxxdUZDgQ",
    "outputId": "6679cbaa-7b15-4c88-94a2-2f5b139f98a4"
   },
   "outputs": [],
   "source": [
    "# !pip install powerlaw"
   ]
  },
  {
   "cell_type": "code",
   "execution_count": 2,
   "metadata": {
    "id": "B8w0WlRHmAfr"
   },
   "outputs": [],
   "source": [
    "import requests\n",
    "from bs4 import BeautifulSoup\n",
    "import io\n",
    "from collections import Counter\n",
    "import powerlaw\n",
    "import matplotlib.pyplot as plt"
   ]
  },
  {
   "cell_type": "code",
   "execution_count": 4,
   "metadata": {
    "id": "zD2-Joh2mTqV"
   },
   "outputs": [],
   "source": [
    "class Post:\n",
    "    def __init__(self, postnumber, username, location, comment, postdate, reputation, responseto):\n",
    "        self.postnumber = postnumber\n",
    "        self.username = username\n",
    "        self.location = location\n",
    "        self.comment = comment\n",
    "        self.postdate = postdate\n",
    "        self.reputation = reputation\n",
    "        self.responseto = responseto\n",
    "\n",
    "def DownloadAllForumMessages(): ## Downloads all the pages on the forum that are related to this thread, takes like a minute to run so only use if you want to update the stored file \n",
    "    url = \"https://www.city-data.com/forum/health-wellness/3245374-have-you-had-covid-vaccine-side.html\"\n",
    "\n",
    "    RequestedPage = requests.get(url)\n",
    "    RequestedPageAsText = RequestedPage.text\n",
    "\n",
    "    soup = BeautifulSoup(RequestedPageAsText, 'html.parser')\n",
    "\n",
    "    numofpages = int(soup.find(class_=\"vbmenu_control\").text.split()[-1])\n",
    "\n",
    "    AllPagesText = \"\"\n",
    "\n",
    "    for i in range(1, numofpages + 1):\n",
    "        if i == 1:\n",
    "            url = \"https://www.city-data.com/forum/health-wellness/3245374-have-you-had-covid-vaccine-side.html\"\n",
    "        else:\n",
    "            url = \"https://www.city-data.com/forum/health-wellness/3245374-have-you-had-covid-vaccine-side-\".strip() + str(i).strip() + \".html\".strip()\n",
    "        RequestedPage = requests.get(url)\n",
    "        RequestedPageAsText = RequestedPage.text\n",
    "        AllPagesText += RequestedPageAsText\n",
    "    with io.open(\"ForumContent.txt\", \"w\", encoding=\"utf-8\") as f:\n",
    "        f.write(AllPagesText)"
   ]
  },
  {
   "cell_type": "code",
   "execution_count": 6,
   "metadata": {
    "colab": {
     "base_uri": "https://localhost:8080/"
    },
    "id": "x90ZmB_t7NaY",
    "outputId": "c93ec3ec-b66d-4c67-8d37-97bde1e7fde2"
   },
   "outputs": [
    {
     "name": "stdout",
     "output_type": "stream",
     "text": [
      "\n",
      "\n",
      " 1 mascoma None 02-13-2021, 06:10 PM 4,259 posts, read 1,161,437 times   Reputation: 4418 Response to: [] \n",
      "\n",
      "\n",
      "\n",
      " 2 Lillie767 Location: USA 02-13-2021, 06:54 PM Location: USA   2,335 posts, read 896,592 times   Reputation: 6612 Response to: [] \n",
      "\n",
      "\n",
      "\n",
      " 3 mascoma None 02-13-2021, 07:01 PM 4,259 posts, read 1,161,437 times   Reputation: 4418 Response to: ['Lillie767'] \n",
      "\n",
      "\n",
      "\n",
      " 4 TravelingBoat Location: Los Angeles 02-13-2021, 11:51 PM Location: Los Angeles   421 posts, read 208,469 times   Reputation: 847 Response to: [] \n",
      "\n",
      "\n",
      "\n",
      " 5 Lola The yorkie None 02-14-2021, 12:55 AM 984 posts, read 457,918 times   Reputation: 1259 Response to: ['Lillie767'] \n",
      "\n"
     ]
    }
   ],
   "source": [
    "with io.open(\"ForumContent.txt\", \"r\", encoding=\"utf-8\") as f:\n",
    "    Text = f.read()\n",
    "soup = BeautifulSoup(Text, 'html.parser')\n",
    "posts = soup.find_all(id= lambda x: x and x.startswith(\"post60\"))\n",
    "index = 1\n",
    "ListOfPosts = []\n",
    "ListOfLocations = []\n",
    "for i in posts:\n",
    "    responseto = []\n",
    "    postnumber = index\n",
    "    index += 1\n",
    "    location = i.find(text= lambda x: x and x.startswith(\"Location: \"))\n",
    "    username = i.find(class_=\"bigusername\").text\n",
    "    comment = i.find(id= lambda x: x and x.startswith(\"post_message_\")).text\n",
    "    responses = i.find_all(\"strong\")\n",
    "    ListOfLocations.append(location)\n",
    "    for j in responses:\n",
    "        responseto.append(j.get_text())\t\n",
    "    postdate = i.find(class_=\"thead\").text.strip()\n",
    "    reputation = i.find(class_=\"smallfont\").text.strip().replace(\"\\n\", \" \").replace(\"\\t\", \"\")\n",
    "    ListOfPosts.append(Post(postnumber, username, location, comment, postdate, reputation, responseto))\n",
    "\n",
    "for i in ListOfPosts[:5]:\n",
    "    print(\"\\n\\n\", i.postnumber, i.username, i.location, i.postdate, i.reputation, \"Response to:\", i.responseto, \"\\n\")"
   ]
  },
  {
   "cell_type": "markdown",
   "metadata": {
    "id": "wmvW8f35n371"
   },
   "source": [
    "Data Statistics"
   ]
  },
  {
   "cell_type": "code",
   "execution_count": 7,
   "metadata": {
    "id": "fYBgytOOnc8C"
   },
   "outputs": [],
   "source": [
    "reads, comments, users, locs = [], [], [], []\n",
    "for i in ListOfPosts:\n",
    "    curr = i.reputation\n",
    "    start = curr.find('read ') + 5\n",
    "    end = curr.find(' times')\n",
    "    reads.append( curr[start:end].replace(',', ''))\n",
    "    comments.append(i.comment)\n",
    "    users.append(i.username)\n",
    "    locs.append(i.location)"
   ]
  },
  {
   "cell_type": "code",
   "execution_count": 8,
   "metadata": {
    "colab": {
     "base_uri": "https://localhost:8080/"
    },
    "id": "Qiu9CmBMqs5d",
    "outputId": "f0925c53-050e-4b92-f9ed-f8c008f3dc75"
   },
   "outputs": [
    {
     "name": "stdout",
     "output_type": "stream",
     "text": [
      "Unique locations:  93\n",
      "Unique Users:  182\n",
      "Sum of all reads 3252118296\n"
     ]
    }
   ],
   "source": [
    "import numpy as np\n",
    "locs = [i for i in locs if i]\n",
    "uni_locs = np.unique( locs )\n",
    "print('Unique locations: ', len(uni_locs))\n",
    "\n",
    "uni_users = np.unique( users )\n",
    "print('Unique Users: ', len(uni_users))\n",
    "\n",
    "reads = [int(read) for read in reads if read.isnumeric()]\n",
    "print('Sum of all reads', sum(reads))"
   ]
  },
  {
   "cell_type": "code",
   "execution_count": 10,
   "metadata": {
    "colab": {
     "base_uri": "https://localhost:8080/",
     "height": 581
    },
    "id": "smzqXNBTs35h",
    "outputId": "2e22b080-b8e0-41eb-cebf-cf21200295ff"
   },
   "outputs": [
    {
     "data": {
      "image/png": "[encoded data removed]",
      "text/plain": [
       "<Figure size 936x576 with 1 Axes>"
      ]
     },
     "metadata": {
      "needs_background": "light"
     },
     "output_type": "display_data"
    }
   ],
   "source": [
    "import pandas as pd\n",
    "import nltk\n",
    "import seaborn as sns\n",
    "from nltk.corpus import stopwords\n",
    "# nltk.download('stopwords')\n",
    "stopwords = stopwords.words('english')\n",
    "\n",
    "# nltk.download('punkt')\n",
    "\n",
    "all_words = []\n",
    "for comment in comments:\n",
    "    sent_text = nltk.sent_tokenize(comment)\n",
    "    words = [word.lower() for sent in sent_text for word in nltk.word_tokenize(sent) if word.isalpha()]\n",
    "    words  = [word for word in words if not word in stopwords]\n",
    "    all_words.extend(words)\n",
    "\n",
    "\n",
    "# tokens = [word for sentence in df['post_processed'] for word in sentence.split(' ') if len(word)>1]\n",
    "frequency = nltk.FreqDist(all_words)\n",
    "freq_data = pd.DataFrame({'Words': list(frequency.keys()),\n",
    "                  'Count': list(frequency.values())})\n",
    "\n",
    "plt.figure(figsize=(13,8))\n",
    "sns.barplot(data=freq_data.nlargest(columns='Count', n=10), x='Words', y='Count')\n",
    "sns.despine(top=True, right=True, left=False, bottom=False)\n",
    "plt.title('Most frequent words in tweets')\n",
    "plt.xlabel('Words')\n",
    "plt.ylabel('Frequency')\n",
    "plt.savefig('frequent.png')\n",
    "plt.show()"
   ]
  }
 ],
 "metadata": {
  "colab": {
   "collapsed_sections": [],
   "name": "SNA.ipynb",
   "provenance": []
  },
  "kernelspec": {
   "display_name": "Python 3",
   "language": "python",
   "name": "python3"
  },
  "language_info": {
   "codemirror_mode": {
    "name": "ipython",
    "version": 3
   },
   "file_extension": ".py",
   "mimetype": "text/x-python",
   "name": "python",
   "nbconvert_exporter": "python",
   "pygments_lexer": "ipython3",
   "version": "3.8.5"
  }
 },
 "nbformat": 4,
 "nbformat_minor": 1
}
